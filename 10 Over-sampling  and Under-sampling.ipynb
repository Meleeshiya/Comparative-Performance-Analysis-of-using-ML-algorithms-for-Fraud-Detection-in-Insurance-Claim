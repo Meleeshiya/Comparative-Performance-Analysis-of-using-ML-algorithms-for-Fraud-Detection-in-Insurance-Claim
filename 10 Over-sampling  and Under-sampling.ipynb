{
 "cells": [
  {
   "cell_type": "code",
   "execution_count": 1,
   "metadata": {},
   "outputs": [
    {
     "data": {
      "text/plain": [
       "Age                                  int64\n",
       "FraudFound_P                         int64\n",
       "Days_Policy_Accident               float64\n",
       "Days_Policy_Claim                  float64\n",
       "AgeOfVehicle                       float64\n",
       "Sex_Female                           uint8\n",
       "Sex_Male                             uint8\n",
       "MaritalStatus_Divorced               uint8\n",
       "MaritalStatus_Married                uint8\n",
       "MaritalStatus_Single                 uint8\n",
       "MaritalStatus_Widow                  uint8\n",
       "Fault_Policy Holder                  uint8\n",
       "Fault_Third Party                    uint8\n",
       "PolicyType_Sedan - All Perils        uint8\n",
       "PolicyType_Sedan - Collision         uint8\n",
       "PolicyType_Sedan - Liability         uint8\n",
       "PolicyType_Sport - All Perils        uint8\n",
       "PolicyType_Sport - Collision         uint8\n",
       "PolicyType_Sport - Liability         uint8\n",
       "PolicyType_Utility - All Perils      uint8\n",
       "PolicyType_Utility - Collision       uint8\n",
       "PolicyType_Utility - Liability       uint8\n",
       "VehicleCategory_Sedan                uint8\n",
       "VehicleCategory_Sport                uint8\n",
       "VehicleCategory_Utility              uint8\n",
       "WitnessPresent_No                    uint8\n",
       "WitnessPresent_Yes                   uint8\n",
       "BasePolicy_All Perils                uint8\n",
       "BasePolicy_Collision                 uint8\n",
       "BasePolicy_Liability                 uint8\n",
       "dtype: object"
      ]
     },
     "execution_count": 1,
     "metadata": {},
     "output_type": "execute_result"
    }
   ],
   "source": [
    "import pandas as pd\n",
    "from tensorflow import keras\n",
    "from tensorflow.keras import layers\n",
    "import matplotlib.pyplot as plt\n",
    "import pandas as pd\n",
    "import numpy as np\n",
    "\n",
    "dataset = pd.read_csv(\"fraud_oracle.csv\")\n",
    "\n",
    "#removing unrelated variables from the data set\n",
    "updated_ds = dataset.drop([\"Month\",\"WeekOfMonth\",\"DayOfWeek\", \"Make\", \"DayOfWeekClaimed\", \"MonthClaimed\", \"WeekOfMonthClaimed\", \n",
    "                   \"RepNumber\", \"Deductible\", \"AgeOfPolicyHolder\",\"PastNumberOfClaims\",\"PolicyNumber\", \"AddressChange_Claim\",\"NumberOfCars\",\"Year\"],axis =1)\n",
    "\n",
    "#drop fetures that identified as unimportant by feature extraction method using R-Studio\n",
    "\n",
    "updated_ds_new = updated_ds.drop([\"AccidentArea\", \"AgentType\", \"DriverRating\", \"NumberOfSuppliments\",\"PoliceReportFiled\",\"VehiclePrice\"],axis =1)\n",
    "\n",
    "\n",
    "# For Days_Policy_Accident it contains range of values here change this column into get the mean of the range.\n",
    "\n",
    "updated_ds_new.loc[updated_ds_new['Days_Policy_Accident'] == 'more than 30', 'Days_Policy_Accident'] = '31'\n",
    "\n",
    "updated_ds_new.loc[updated_ds_new['Days_Policy_Accident'] == 'none', 'Days_Policy_Accident'] = '0'\n",
    "\n",
    "# mean of range 8 t0 15 -> 8+9+10+11+12+13+14+15 / 8 = 11.5 \n",
    "updated_ds_new.loc[updated_ds_new['Days_Policy_Accident'] == '8 to 15', 'Days_Policy_Accident'] = '11.5'\n",
    "\n",
    "# mean of range 15 to 30 ->  15+16+17+18+19+20+21+22+23+24+25+26+27+28+29+30/ 16 = 22.5 \n",
    "updated_ds_new.loc[updated_ds_new['Days_Policy_Accident'] == '15 to 30', 'Days_Policy_Accident'] = '22.5'\n",
    "\n",
    "# mean of range 1 t0 7 ->  1+2+3+4+5+6+7/7 = 4 \n",
    "updated_ds_new.loc[updated_ds_new['Days_Policy_Accident'] == '1 to 7', 'Days_Policy_Accident'] = '4'\n",
    "\n",
    "\n",
    "# For Days_Policy_Claim it contains range of values here change this column into get the mean of the range.\n",
    "\n",
    "updated_ds_new.loc[updated_ds_new['Days_Policy_Claim'] == 'more than 30', 'Days_Policy_Claim'] = '31'\n",
    "\n",
    "# mean of range 15 to 30 ->  15+16+17+18+19+20+21+22+23+24+25+26+27+28+29+30/ 16 = 22.5 \n",
    "updated_ds_new.loc[updated_ds_new['Days_Policy_Claim'] == '15 to 30', 'Days_Policy_Claim'] = '22.5'\n",
    "\n",
    "# mean of range 8 t0 15 -> 8+9+10+11+12+13+14+15 / 8 = 11.5 \n",
    "updated_ds_new.loc[updated_ds_new['Days_Policy_Claim'] == '8 to 15', 'Days_Policy_Claim'] = '11.5'\n",
    "\n",
    "updated_ds_new.loc[updated_ds_new['Days_Policy_Claim'] == 'none', 'Days_Policy_Claim'] = '0'\n",
    "\n",
    "# For AgeOfVehicle it contains range of values here change this column into get the mean of the range.\n",
    "\n",
    "updated_ds_new.loc[updated_ds_new['AgeOfVehicle'] == '7 years', 'AgeOfVehicle'] = '7'\n",
    "\n",
    "updated_ds_new.loc[updated_ds_new['AgeOfVehicle'] == 'more than 7', 'AgeOfVehicle'] = '8'\n",
    "\n",
    "updated_ds_new.loc[updated_ds_new['AgeOfVehicle'] == '6 years', 'AgeOfVehicle'] = '6'\n",
    "\n",
    "updated_ds_new.loc[updated_ds_new['AgeOfVehicle'] == '5 years', 'AgeOfVehicle'] = '5'\n",
    "\n",
    "updated_ds_new.loc[updated_ds_new['AgeOfVehicle'] == 'new', 'AgeOfVehicle'] = '0'\n",
    "\n",
    "updated_ds_new.loc[updated_ds_new['AgeOfVehicle'] == '4 years', 'AgeOfVehicle'] = '4'\n",
    "\n",
    "updated_ds_new.loc[updated_ds_new['AgeOfVehicle'] == '3 years', 'AgeOfVehicle'] = '3'\n",
    "\n",
    "updated_ds_new.loc[updated_ds_new['AgeOfVehicle'] == '2 years', 'AgeOfVehicle'] = '2'\n",
    "\n",
    "# changing datatypes of the dataset as per the above transformations\n",
    "updated_ds_new['Days_Policy_Accident'] = updated_ds_new['Days_Policy_Accident'].astype('float')\n",
    "updated_ds_new['Days_Policy_Claim'] = updated_ds_new['Days_Policy_Claim'].astype('float')\n",
    "updated_ds_new['AgeOfVehicle'] = updated_ds_new['AgeOfVehicle'].astype('float')\n",
    "\n",
    "updated_ds_new.dtypes\n",
    "\n",
    "# perform OHE for categorical data \n",
    "one_hot_encoded_data = pd.get_dummies(updated_ds_new, columns = ['Sex', 'MaritalStatus','Fault','PolicyType', 'VehicleCategory','WitnessPresent','BasePolicy'])\n",
    "\n",
    "one_hot_encoded_data.dtypes"
   ]
  },
  {
   "cell_type": "code",
   "execution_count": 2,
   "metadata": {},
   "outputs": [
    {
     "name": "stdout",
     "output_type": "stream",
     "text": [
      "Requirement already up-to-date: imbalanced-learn in c:\\users\\thanuja\\appdata\\local\\conda\\conda\\envs\\fyp\\lib\\site-packages (0.10.1)\n",
      "Requirement already satisfied, skipping upgrade: threadpoolctl>=2.0.0 in c:\\users\\thanuja\\appdata\\local\\conda\\conda\\envs\\fyp\\lib\\site-packages (from imbalanced-learn) (3.1.0)\n",
      "Requirement already satisfied, skipping upgrade: scipy>=1.3.2 in c:\\users\\thanuja\\appdata\\local\\conda\\conda\\envs\\fyp\\lib\\site-packages (from imbalanced-learn) (1.3.2)\n",
      "Requirement already satisfied, skipping upgrade: numpy>=1.17.3 in c:\\users\\thanuja\\appdata\\local\\conda\\conda\\envs\\fyp\\lib\\site-packages (from imbalanced-learn) (1.21.6)\n",
      "Requirement already satisfied, skipping upgrade: joblib>=1.1.1 in c:\\users\\thanuja\\appdata\\local\\conda\\conda\\envs\\fyp\\lib\\site-packages (from imbalanced-learn) (1.2.0)\n",
      "Requirement already satisfied, skipping upgrade: scikit-learn>=1.0.2 in c:\\users\\thanuja\\appdata\\local\\conda\\conda\\envs\\fyp\\lib\\site-packages (from imbalanced-learn) (1.0.2)\n"
     ]
    }
   ],
   "source": [
    "! pip install -U imbalanced-learn"
   ]
  },
  {
   "cell_type": "code",
   "execution_count": 3,
   "metadata": {},
   "outputs": [],
   "source": [
    "x = one_hot_encoded_data.drop(\"FraudFound_P\", axis=1)\n",
    "y = one_hot_encoded_data[\"FraudFound_P\"]"
   ]
  },
  {
   "cell_type": "code",
   "execution_count": 4,
   "metadata": {},
   "outputs": [
    {
     "data": {
      "text/plain": [
       "0    14497\n",
       "1      923\n",
       "Name: FraudFound_P, dtype: int64"
      ]
     },
     "execution_count": 4,
     "metadata": {},
     "output_type": "execute_result"
    }
   ],
   "source": [
    "y.value_counts()"
   ]
  },
  {
   "cell_type": "code",
   "execution_count": 5,
   "metadata": {},
   "outputs": [
    {
     "data": {
      "text/plain": [
       "<matplotlib.axes._subplots.AxesSubplot at 0x20b0074c948>"
      ]
     },
     "execution_count": 5,
     "metadata": {},
     "output_type": "execute_result"
    },
    {
     "data": {
      "image/png": "[encoded data removed]",
      "text/plain": [
       "<Figure size 432x288 with 1 Axes>"
      ]
     },
     "metadata": {},
     "output_type": "display_data"
    }
   ],
   "source": [
    "y.value_counts().plot.pie(autopct = '%.2f')"
   ]
  },
  {
   "cell_type": "code",
   "execution_count": 6,
   "metadata": {},
   "outputs": [
    {
     "data": {
      "image/png": "[encoded data removed]",
      "text/plain": [
       "<Figure size 432x288 with 1 Axes>"
      ]
     },
     "metadata": {},
     "output_type": "display_data"
    }
   ],
   "source": [
    "from imblearn.under_sampling import RandomUnderSampler\n",
    "\n",
    "ros = RandomUnderSampler(sampling_strategy = 1)\n",
    "x_res, y_res = ros.fit_resample(x,y)\n",
    "\n",
    "ax = y_res.value_counts().plot.pie(autopct = '%.2f')\n",
    "_=ax.set_title(\"After Under Sampling\")"
   ]
  },
  {
   "cell_type": "code",
   "execution_count": 7,
   "metadata": {},
   "outputs": [
    {
     "data": {
      "text/plain": [
       "0    923\n",
       "1    923\n",
       "Name: FraudFound_P, dtype: int64"
      ]
     },
     "execution_count": 7,
     "metadata": {},
     "output_type": "execute_result"
    }
   ],
   "source": [
    "y_res.value_counts()"
   ]
  },
  {
   "cell_type": "code",
   "execution_count": 8,
   "metadata": {},
   "outputs": [
    {
     "data": {
      "image/png": "[encoded data removed]",
      "text/plain": [
       "<Figure size 432x288 with 1 Axes>"
      ]
     },
     "metadata": {},
     "output_type": "display_data"
    }
   ],
   "source": [
    "from imblearn.over_sampling import RandomOverSampler\n",
    "\n",
    "ros = RandomOverSampler(sampling_strategy = \"not majority\")\n",
    "x_res, y_res = ros.fit_resample(x,y)\n",
    "\n",
    "ax = y_res.value_counts().plot.pie(autopct = '%.2f')\n",
    "_=ax.set_title(\"After Over Sampling\")"
   ]
  },
  {
   "cell_type": "code",
   "execution_count": 9,
   "metadata": {},
   "outputs": [
    {
     "data": {
      "text/plain": [
       "0    14497\n",
       "1    14497\n",
       "Name: FraudFound_P, dtype: int64"
      ]
     },
     "execution_count": 9,
     "metadata": {},
     "output_type": "execute_result"
    }
   ],
   "source": [
    "y_res.value_counts()"
   ]
  },
  {
   "cell_type": "code",
   "execution_count": null,
   "metadata": {},
   "outputs": [],
   "source": []
  },
  {
   "cell_type": "code",
   "execution_count": null,
   "metadata": {},
   "outputs": [],
   "source": []
  },
  {
   "cell_type": "code",
   "execution_count": null,
   "metadata": {},
   "outputs": [],
   "source": []
  }
 ],
 "metadata": {
  "kernelspec": {
   "display_name": "Python 3",
   "language": "python",
   "name": "python3"
  },
  "language_info": {
   "codemirror_mode": {
    "name": "ipython",
    "version": 3
   },
   "file_extension": ".py",
   "mimetype": "text/x-python",
   "name": "python",
   "nbconvert_exporter": "python",
   "pygments_lexer": "ipython3",
   "version": "3.7.5"
  }
 },
 "nbformat": 4,
 "nbformat_minor": 2
}
