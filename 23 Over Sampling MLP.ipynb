{
 "cells": [
  {
   "cell_type": "code",
   "execution_count": 1,
   "metadata": {},
   "outputs": [
    {
     "data": {
      "image/png": "[encoded data removed]",
      "text/plain": [
       "<Figure size 432x288 with 1 Axes>"
      ]
     },
     "metadata": {},
     "output_type": "display_data"
    }
   ],
   "source": [
    "import pandas as pd\n",
    "from tensorflow import keras\n",
    "from tensorflow.keras import layers\n",
    "import matplotlib.pyplot as plt\n",
    "import pandas as pd\n",
    "import numpy as np\n",
    "from imblearn.over_sampling import RandomOverSampler\n",
    "\n",
    "dataset = pd.read_csv(\"fraud_oracle.csv\")\n",
    "\n",
    "#removing unrelated variables from the data set\n",
    "updated_ds = dataset.drop([\"Month\",\"WeekOfMonth\",\"DayOfWeek\", \"Make\", \"DayOfWeekClaimed\", \"MonthClaimed\", \"WeekOfMonthClaimed\", \n",
    "                   \"RepNumber\", \"Deductible\", \"AgeOfPolicyHolder\",\"PastNumberOfClaims\",\"PolicyNumber\", \"AddressChange_Claim\",\"NumberOfCars\",\"Year\"],axis =1)\n",
    "\n",
    "#drop fetures that identified as unimportant by feature extraction method using R-Studio\n",
    "\n",
    "updated_ds_new = updated_ds.drop([\"AccidentArea\", \"AgentType\", \"DriverRating\", \"NumberOfSuppliments\",\"PoliceReportFiled\",\"VehiclePrice\"],axis =1)\n",
    "\n",
    "\n",
    "# For Days_Policy_Accident it contains range of values here change this column into get the mean of the range.\n",
    "\n",
    "updated_ds_new.loc[updated_ds_new['Days_Policy_Accident'] == 'more than 30', 'Days_Policy_Accident'] = '31'\n",
    "\n",
    "updated_ds_new.loc[updated_ds_new['Days_Policy_Accident'] == 'none', 'Days_Policy_Accident'] = '0'\n",
    "\n",
    "# mean of range 8 t0 15 -> 8+9+10+11+12+13+14+15 / 8 = 11.5 \n",
    "updated_ds_new.loc[updated_ds_new['Days_Policy_Accident'] == '8 to 15', 'Days_Policy_Accident'] = '11.5'\n",
    "\n",
    "# mean of range 15 to 30 ->  15+16+17+18+19+20+21+22+23+24+25+26+27+28+29+30/ 16 = 22.5 \n",
    "updated_ds_new.loc[updated_ds_new['Days_Policy_Accident'] == '15 to 30', 'Days_Policy_Accident'] = '22.5'\n",
    "\n",
    "# mean of range 1 t0 7 ->  1+2+3+4+5+6+7/7 = 4 \n",
    "updated_ds_new.loc[updated_ds_new['Days_Policy_Accident'] == '1 to 7', 'Days_Policy_Accident'] = '4'\n",
    "\n",
    "\n",
    "# For Days_Policy_Claim it contains range of values here change this column into get the mean of the range.\n",
    "\n",
    "updated_ds_new.loc[updated_ds_new['Days_Policy_Claim'] == 'more than 30', 'Days_Policy_Claim'] = '31'\n",
    "\n",
    "# mean of range 15 to 30 ->  15+16+17+18+19+20+21+22+23+24+25+26+27+28+29+30/ 16 = 22.5 \n",
    "updated_ds_new.loc[updated_ds_new['Days_Policy_Claim'] == '15 to 30', 'Days_Policy_Claim'] = '22.5'\n",
    "\n",
    "# mean of range 8 t0 15 -> 8+9+10+11+12+13+14+15 / 8 = 11.5 \n",
    "updated_ds_new.loc[updated_ds_new['Days_Policy_Claim'] == '8 to 15', 'Days_Policy_Claim'] = '11.5'\n",
    "\n",
    "updated_ds_new.loc[updated_ds_new['Days_Policy_Claim'] == 'none', 'Days_Policy_Claim'] = '0'\n",
    "\n",
    "# For AgeOfVehicle it contains range of values here change this column into get the mean of the range.\n",
    "\n",
    "updated_ds_new.loc[updated_ds_new['AgeOfVehicle'] == '7 years', 'AgeOfVehicle'] = '7'\n",
    "\n",
    "updated_ds_new.loc[updated_ds_new['AgeOfVehicle'] == 'more than 7', 'AgeOfVehicle'] = '8'\n",
    "\n",
    "updated_ds_new.loc[updated_ds_new['AgeOfVehicle'] == '6 years', 'AgeOfVehicle'] = '6'\n",
    "\n",
    "updated_ds_new.loc[updated_ds_new['AgeOfVehicle'] == '5 years', 'AgeOfVehicle'] = '5'\n",
    "\n",
    "updated_ds_new.loc[updated_ds_new['AgeOfVehicle'] == 'new', 'AgeOfVehicle'] = '0'\n",
    "\n",
    "updated_ds_new.loc[updated_ds_new['AgeOfVehicle'] == '4 years', 'AgeOfVehicle'] = '4'\n",
    "\n",
    "updated_ds_new.loc[updated_ds_new['AgeOfVehicle'] == '3 years', 'AgeOfVehicle'] = '3'\n",
    "\n",
    "updated_ds_new.loc[updated_ds_new['AgeOfVehicle'] == '2 years', 'AgeOfVehicle'] = '2'\n",
    "\n",
    "# changing datatypes of the dataset as per the above transformations\n",
    "updated_ds_new['Days_Policy_Accident'] = updated_ds_new['Days_Policy_Accident'].astype('float')\n",
    "updated_ds_new['Days_Policy_Claim'] = updated_ds_new['Days_Policy_Claim'].astype('float')\n",
    "updated_ds_new['AgeOfVehicle'] = updated_ds_new['AgeOfVehicle'].astype('float')\n",
    "\n",
    "updated_ds_new.dtypes\n",
    "\n",
    "# perform OHE for categorical data \n",
    "one_hot_encoded_data = pd.get_dummies(updated_ds_new, columns = ['Sex', 'MaritalStatus','Fault','PolicyType', 'VehicleCategory','WitnessPresent','BasePolicy'])\n",
    "\n",
    "\n",
    "x = one_hot_encoded_data.drop(\"FraudFound_P\", axis=1)\n",
    "y = one_hot_encoded_data[\"FraudFound_P\"]\n",
    "\n",
    "\n",
    "ros = RandomOverSampler(sampling_strategy = \"not majority\")\n",
    "x_res, y_res = ros.fit_resample(x,y)\n",
    "\n",
    "ax = y_res.value_counts().plot.pie(autopct = '%.2f')\n",
    "_=ax.set_title(\"Over Sampling\")\n",
    "\n"
   ]
  },
  {
   "cell_type": "code",
   "execution_count": 2,
   "metadata": {},
   "outputs": [
    {
     "name": "stdout",
     "output_type": "stream",
     "text": [
      "classes are:  ['0', '1']\n",
      "ACCURACY OF THE MODEL:  0.7928497528451546\n",
      "Accuracy: 0.7928497528451546\n",
      "Confusion Matrix is \n",
      "[[2932 1453]\n",
      " [ 349 3965]]\n",
      "\n",
      "\n",
      "              precision    recall  f1-score   support\n",
      "\n",
      "           0       0.89      0.67      0.76      4385\n",
      "           1       0.73      0.92      0.81      4314\n",
      "\n",
      "    accuracy                           0.79      8699\n",
      "   macro avg       0.81      0.79      0.79      8699\n",
      "weighted avg       0.81      0.79      0.79      8699\n",
      "\n",
      "\n",
      "\n",
      "Confusion matrix, without normalization\n",
      "[[2932 1453]\n",
      " [ 349 3965]]\n"
     ]
    },
    {
     "name": "stderr",
     "output_type": "stream",
     "text": [
      "C:\\Users\\Thanuja\\AppData\\Local\\conda\\conda\\envs\\FYP\\lib\\site-packages\\sklearn\\utils\\deprecation.py:87: FutureWarning: Function plot_confusion_matrix is deprecated; Function `plot_confusion_matrix` is deprecated in 1.0 and will be removed in 1.2. Use one of the class methods: ConfusionMatrixDisplay.from_predictions or ConfusionMatrixDisplay.from_estimator.\n",
      "  warnings.warn(msg, category=FutureWarning)\n"
     ]
    },
    {
     "data": {
      "image/png": "[encoded data removed]",
      "text/plain": [
       "<Figure size 432x288 with 2 Axes>"
      ]
     },
     "metadata": {
      "needs_background": "light"
     },
     "output_type": "display_data"
    }
   ],
   "source": [
    "# Applying MLP for Predict Frauds in Vehicle Insurance Claim\n",
    "# https://analyticsindiamag.com/a-beginners-guide-to-scikit-learns-mlpclassifier/\n",
    "import pandas as pd\n",
    "import numpy as np\n",
    "import matplotlib.pyplot as plt\n",
    "from sklearn.model_selection import train_test_split\n",
    "from sklearn.preprocessing import StandardScaler\n",
    "from sklearn.neural_network import MLPClassifier\n",
    "from sklearn import metrics\n",
    "from sklearn.metrics import confusion_matrix\n",
    "from sklearn.metrics import classification_report\n",
    "from sklearn.metrics import plot_confusion_matrix\n",
    "\n",
    "\n",
    "\n",
    "class_names = [\"0\", \"1\"]\n",
    "print(\"classes are: \", class_names)\n",
    "\n",
    "\n",
    "X_train, X_test, y_train, y_test = train_test_split(x_res, y_res, test_size = 0.30)\n",
    "\n",
    "#Initializing the MLPClassifier#Fitting the training data to the network\n",
    "classifier = MLPClassifier(hidden_layer_sizes=(150,100,50), max_iter=300,activation = 'relu',solver='adam',random_state=1)\n",
    "\n",
    "classifier.fit(X_train, y_train)\n",
    "\n",
    "#Predicting y for X_val\n",
    "y_pred = classifier.predict(X_test)\n",
    "\n",
    "print(\"ACCURACY OF THE MODEL: \", metrics.accuracy_score(y_test, y_pred))\n",
    "\n",
    "# Model Accuracy: how often is the classifier correct?\n",
    "print(\"Accuracy:\",metrics.accuracy_score(y_test,y_pred))\n",
    "\n",
    "print(\"Confusion Matrix is \")\n",
    "print(confusion_matrix(y_test,y_pred))\n",
    "print(\"\\n\")\n",
    "print(classification_report(y_test,y_pred))\n",
    "print(\"\\n\")\n",
    "\n",
    "\n",
    "# Plot non-normalized confusion matrix\n",
    "titles_options = [(\"Confusion matrix, without normalization\", None)]\n",
    "for title, normalize in titles_options:\n",
    "    disp = plot_confusion_matrix(classifier, X_test, y_test,\n",
    "                                 display_labels=class_names,\n",
    "                                 cmap=plt.cm.Blues,\n",
    "                                 normalize=normalize)\n",
    "    disp.ax_.set_title(title)\n",
    "\n",
    "    print(title)\n",
    "    print(disp.confusion_matrix)\n",
    "\n",
    "plt.show()\n",
    "\n"
   ]
  },
  {
   "cell_type": "code",
   "execution_count": null,
   "metadata": {},
   "outputs": [],
   "source": []
  }
 ],
 "metadata": {
  "kernelspec": {
   "display_name": "Python 3",
   "language": "python",
   "name": "python3"
  },
  "language_info": {
   "codemirror_mode": {
    "name": "ipython",
    "version": 3
   },
   "file_extension": ".py",
   "mimetype": "text/x-python",
   "name": "python",
   "nbconvert_exporter": "python",
   "pygments_lexer": "ipython3",
   "version": "3.7.5"
  }
 },
 "nbformat": 4,
 "nbformat_minor": 2
}
